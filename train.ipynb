{
 "cells": [
  {
   "cell_type": "code",
   "execution_count": 9,
   "id": "6a82dee3",
   "metadata": {},
   "outputs": [
    {
     "name": "stdout",
     "output_type": "stream",
     "text": [
      "Collecting scipy\n",
      "  Downloading scipy-1.7.3-cp39-cp39-win_amd64.whl (34.3 MB)\n",
      "Requirement already satisfied: numpy<1.23.0,>=1.16.5 in c:\\users\\dell\\anaconda3\\lib\\site-packages (from scipy) (1.21.2)\n",
      "Installing collected packages: scipy\n",
      "Successfully installed scipy-1.7.3\n"
     ]
    }
   ],
   "source": [
    "!pip3 install scipy\n"
   ]
  },
  {
   "cell_type": "code",
   "execution_count": 1,
   "id": "4b60e925",
   "metadata": {},
   "outputs": [
    {
     "name": "stdout",
     "output_type": "stream",
     "text": [
      "Collecting tensorflow"
     ]
    },
    {
     "name": "stderr",
     "output_type": "stream",
     "text": [
      "ERROR: pip's dependency resolver does not currently take into account all the packages that are installed. This behaviour is the source of the following dependency conflicts.\n",
      "tensorflow-gpu 2.7.0 requires keras<2.8,>=2.7.0rc0, but you have keras 2.8.0 which is incompatible.\n"
     ]
    },
    {
     "name": "stdout",
     "output_type": "stream",
     "text": [
      "\n",
      "  Downloading tensorflow-2.8.0-cp39-cp39-win_amd64.whl (438.0 MB)\n",
      "Requirement already satisfied: astunparse>=1.6.0 in c:\\users\\dell\\anaconda3\\lib\\site-packages (from tensorflow) (1.6.3)\n",
      "Requirement already satisfied: grpcio<2.0,>=1.24.3 in c:\\users\\dell\\anaconda3\\lib\\site-packages (from tensorflow) (1.43.0)\n",
      "Requirement already satisfied: opt-einsum>=2.3.2 in c:\\users\\dell\\anaconda3\\lib\\site-packages (from tensorflow) (3.3.0)\n",
      "Requirement already satisfied: protobuf>=3.9.2 in c:\\users\\dell\\anaconda3\\lib\\site-packages (from tensorflow) (3.19.4)\n",
      "Requirement already satisfied: termcolor>=1.1.0 in c:\\users\\dell\\anaconda3\\lib\\site-packages (from tensorflow) (1.1.0)\n",
      "Requirement already satisfied: h5py>=2.9.0 in c:\\users\\dell\\anaconda3\\lib\\site-packages (from tensorflow) (3.6.0)\n",
      "Requirement already satisfied: libclang>=9.0.1 in c:\\users\\dell\\anaconda3\\lib\\site-packages (from tensorflow) (13.0.0)\n",
      "Requirement already satisfied: setuptools in c:\\users\\dell\\anaconda3\\lib\\site-packages (from tensorflow) (58.0.4)\n",
      "Requirement already satisfied: tensorflow-io-gcs-filesystem>=0.23.1 in c:\\users\\dell\\anaconda3\\lib\\site-packages (from tensorflow) (0.23.1)\n",
      "Collecting wrapt>=1.11.0\n",
      "  Using cached wrapt-1.13.3-cp39-cp39-win_amd64.whl (34 kB)\n",
      "Requirement already satisfied: flatbuffers>=1.12 in c:\\users\\dell\\anaconda3\\lib\\site-packages (from tensorflow) (2.0)\n",
      "Requirement already satisfied: google-pasta>=0.1.1 in c:\\users\\dell\\anaconda3\\lib\\site-packages (from tensorflow) (0.2.0)\n",
      "Requirement already satisfied: gast>=0.2.1 in c:\\users\\dell\\anaconda3\\lib\\site-packages (from tensorflow) (0.4.0)\n",
      "Requirement already satisfied: six>=1.12.0 in c:\\users\\dell\\anaconda3\\lib\\site-packages (from tensorflow) (1.16.0)\n",
      "Collecting typing-extensions>=3.6.6\n",
      "  Using cached typing_extensions-4.0.1-py3-none-any.whl (22 kB)\n",
      "Requirement already satisfied: absl-py>=0.4.0 in c:\\users\\dell\\anaconda3\\lib\\site-packages (from tensorflow) (1.0.0)\n",
      "Collecting tf-estimator-nightly==2.8.0.dev2021122109\n",
      "  Downloading tf_estimator_nightly-2.8.0.dev2021122109-py2.py3-none-any.whl (462 kB)\n",
      "Requirement already satisfied: numpy>=1.20 in c:\\users\\dell\\anaconda3\\lib\\site-packages (from tensorflow) (1.21.2)\n",
      "Requirement already satisfied: keras-preprocessing>=1.1.1 in c:\\users\\dell\\anaconda3\\lib\\site-packages (from tensorflow) (1.1.2)\n",
      "Requirement already satisfied: tensorboard<2.9,>=2.8 in c:\\users\\dell\\anaconda3\\lib\\site-packages (from tensorflow) (2.8.0)\n",
      "Collecting keras<2.9,>=2.8.0rc0\n",
      "  Downloading keras-2.8.0-py2.py3-none-any.whl (1.4 MB)\n",
      "Requirement already satisfied: wheel<1.0,>=0.23.0 in c:\\users\\dell\\anaconda3\\lib\\site-packages (from astunparse>=1.6.0->tensorflow) (0.37.1)\n",
      "Requirement already satisfied: google-auth-oauthlib<0.5,>=0.4.1 in c:\\users\\dell\\anaconda3\\lib\\site-packages (from tensorboard<2.9,>=2.8->tensorflow) (0.4.6)\n",
      "Requirement already satisfied: requests<3,>=2.21.0 in c:\\users\\dell\\anaconda3\\lib\\site-packages (from tensorboard<2.9,>=2.8->tensorflow) (2.27.1)\n",
      "Requirement already satisfied: tensorboard-data-server<0.7.0,>=0.6.0 in c:\\users\\dell\\anaconda3\\lib\\site-packages (from tensorboard<2.9,>=2.8->tensorflow) (0.6.1)\n",
      "Requirement already satisfied: tensorboard-plugin-wit>=1.6.0 in c:\\users\\dell\\anaconda3\\lib\\site-packages (from tensorboard<2.9,>=2.8->tensorflow) (1.8.1)\n",
      "Collecting werkzeug>=0.11.15\n",
      "  Using cached Werkzeug-2.0.2-py3-none-any.whl (288 kB)\n",
      "Requirement already satisfied: markdown>=2.6.8 in c:\\users\\dell\\anaconda3\\lib\\site-packages (from tensorboard<2.9,>=2.8->tensorflow) (3.3.6)\n",
      "Requirement already satisfied: google-auth<3,>=1.6.3 in c:\\users\\dell\\anaconda3\\lib\\site-packages (from tensorboard<2.9,>=2.8->tensorflow) (2.5.0)\n",
      "Requirement already satisfied: pyasn1-modules>=0.2.1 in c:\\users\\dell\\anaconda3\\lib\\site-packages (from google-auth<3,>=1.6.3->tensorboard<2.9,>=2.8->tensorflow) (0.2.8)\n",
      "Requirement already satisfied: rsa<5,>=3.1.4 in c:\\users\\dell\\anaconda3\\lib\\site-packages (from google-auth<3,>=1.6.3->tensorboard<2.9,>=2.8->tensorflow) (4.8)\n",
      "Requirement already satisfied: cachetools<6.0,>=2.0.0 in c:\\users\\dell\\anaconda3\\lib\\site-packages (from google-auth<3,>=1.6.3->tensorboard<2.9,>=2.8->tensorflow) (5.0.0)\n",
      "Requirement already satisfied: requests-oauthlib>=0.7.0 in c:\\users\\dell\\anaconda3\\lib\\site-packages (from google-auth-oauthlib<0.5,>=0.4.1->tensorboard<2.9,>=2.8->tensorflow) (1.3.1)\n",
      "Requirement already satisfied: importlib-metadata>=4.4 in c:\\users\\dell\\anaconda3\\lib\\site-packages (from markdown>=2.6.8->tensorboard<2.9,>=2.8->tensorflow) (4.8.2)\n",
      "Requirement already satisfied: zipp>=0.5 in c:\\users\\dell\\anaconda3\\lib\\site-packages (from importlib-metadata>=4.4->markdown>=2.6.8->tensorboard<2.9,>=2.8->tensorflow) (3.7.0)\n",
      "Requirement already satisfied: pyasn1<0.5.0,>=0.4.6 in c:\\users\\dell\\anaconda3\\lib\\site-packages (from pyasn1-modules>=0.2.1->google-auth<3,>=1.6.3->tensorboard<2.9,>=2.8->tensorflow) (0.4.8)\n",
      "Requirement already satisfied: certifi>=2017.4.17 in c:\\users\\dell\\anaconda3\\lib\\site-packages (from requests<3,>=2.21.0->tensorboard<2.9,>=2.8->tensorflow) (2021.10.8)\n",
      "Requirement already satisfied: urllib3<1.27,>=1.21.1 in c:\\users\\dell\\anaconda3\\lib\\site-packages (from requests<3,>=2.21.0->tensorboard<2.9,>=2.8->tensorflow) (1.26.7)\n",
      "Requirement already satisfied: idna<4,>=2.5 in c:\\users\\dell\\anaconda3\\lib\\site-packages (from requests<3,>=2.21.0->tensorboard<2.9,>=2.8->tensorflow) (3.3)\n",
      "Requirement already satisfied: charset-normalizer~=2.0.0 in c:\\users\\dell\\anaconda3\\lib\\site-packages (from requests<3,>=2.21.0->tensorboard<2.9,>=2.8->tensorflow) (2.0.4)\n",
      "Requirement already satisfied: oauthlib>=3.0.0 in c:\\users\\dell\\anaconda3\\lib\\site-packages (from requests-oauthlib>=0.7.0->google-auth-oauthlib<0.5,>=0.4.1->tensorboard<2.9,>=2.8->tensorflow) (3.2.0)\n",
      "Installing collected packages: werkzeug, wrapt, typing-extensions, tf-estimator-nightly, keras, tensorflow\n",
      "  Attempting uninstall: keras\n",
      "    Found existing installation: keras 2.7.0\n",
      "    Uninstalling keras-2.7.0:\n",
      "      Successfully uninstalled keras-2.7.0\n",
      "Successfully installed keras-2.8.0 tensorflow-2.8.0 tf-estimator-nightly-2.8.0.dev2021122109 typing-extensions-4.0.1 werkzeug-2.0.2 wrapt-1.13.3\n"
     ]
    }
   ],
   "source": [
    "!pip3 install tensorflow\n"
   ]
  },
  {
   "cell_type": "code",
   "execution_count": 1,
   "id": "fe5fdd31",
   "metadata": {},
   "outputs": [],
   "source": [
    "import numpy as np\n",
    "import cv2\n",
    "from keras import Sequential\n",
    "import tensorflow\n",
    "from keras.layers import Dense, Dropout, Flatten\n",
    "from keras.layers import Conv2D\n",
    "from tensorflow.keras.optimizers import Adam\n",
    "from keras.layers import MaxPooling2D\n",
    "from keras.preprocessing.image import ImageDataGenerator"
   ]
  },
  {
   "cell_type": "code",
   "execution_count": 8,
   "id": "926ec5d5",
   "metadata": {},
   "outputs": [],
   "source": [
    "train_dir = 'data/train'\n",
    "val_dir = 'data/test'\n",
    "train_datagen = ImageDataGenerator(rescale=1./255)\n",
    "val_datagen = ImageDataGenerator(rescale=1./255)"
   ]
  },
  {
   "cell_type": "code",
   "execution_count": 9,
   "id": "5664d176",
   "metadata": {},
   "outputs": [
    {
     "name": "stdout",
     "output_type": "stream",
     "text": [
      "Found 28709 images belonging to 7 classes.\n",
      "Found 7178 images belonging to 7 classes.\n"
     ]
    }
   ],
   "source": [
    "train_generator = train_datagen.flow_from_directory(\n",
    "        train_dir,\n",
    "        target_size=(48,48),\n",
    "        batch_size=64,\n",
    "        color_mode=\"grayscale\",\n",
    "        class_mode='categorical')\n",
    "\n",
    "validation_generator = val_datagen.flow_from_directory(\n",
    "        val_dir,\n",
    "        target_size=(48,48),\n",
    "        batch_size=64,\n",
    "        color_mode=\"grayscale\",\n",
    "        class_mode='categorical')"
   ]
  },
  {
   "cell_type": "code",
   "execution_count": 10,
   "id": "67503eb5",
   "metadata": {},
   "outputs": [],
   "source": [
    "emotion_model = Sequential()\n",
    "\n",
    "emotion_model.add(Conv2D(32, kernel_size=(3, 3), activation='relu', input_shape=(48,48,1)))\n",
    "emotion_model.add(Conv2D(64, kernel_size=(3, 3), activation='relu'))\n",
    "emotion_model.add(MaxPooling2D(pool_size=(2, 2)))\n",
    "emotion_model.add(Dropout(0.25))\n",
    "\n",
    "emotion_model.add(Conv2D(128, kernel_size=(3, 3), activation='relu'))\n",
    "emotion_model.add(MaxPooling2D(pool_size=(2, 2)))\n",
    "emotion_model.add(Conv2D(128, kernel_size=(3, 3), activation='relu'))\n",
    "emotion_model.add(MaxPooling2D(pool_size=(2, 2)))\n",
    "emotion_model.add(Dropout(0.25))\n",
    "\n",
    "emotion_model.add(Flatten())\n",
    "emotion_model.add(Dense(1024, activation='relu'))\n",
    "emotion_model.add(Dropout(0.5))\n",
    "emotion_model.add(Dense(7, activation='softmax'))"
   ]
  },
  {
   "cell_type": "code",
   "execution_count": 11,
   "id": "20b4a027",
   "metadata": {},
   "outputs": [],
   "source": [
    "cv2.ocl.setUseOpenCL(False)\n",
    "\n",
    "emotion_dict = {0: \"Angry\", 1: \"Disgusted\", 2: \"Fearful\", 3: \"Happy\", 4: \"Neutral\", 5: \"Sad\", 6: \"Surprised\"}"
   ]
  },
  {
   "cell_type": "code",
   "execution_count": 12,
   "id": "2bfe512a",
   "metadata": {},
   "outputs": [
    {
     "name": "stderr",
     "output_type": "stream",
     "text": [
      "C:\\Users\\Dell\\AppData\\Local\\Temp/ipykernel_6288/1641887969.py:2: UserWarning: `Model.fit_generator` is deprecated and will be removed in a future version. Please use `Model.fit`, which supports generators.\n",
      "  emotion_model_info = emotion_model.fit_generator(\n"
     ]
    },
    {
     "name": "stdout",
     "output_type": "stream",
     "text": [
      "Epoch 1/50\n",
      "448/448 [==============================] - 805s 2s/step - loss: 1.7995 - accuracy: 0.2611 - val_loss: 1.6993 - val_accuracy: 0.3185\n",
      "Epoch 2/50\n",
      "448/448 [==============================] - 232s 517ms/step - loss: 1.6239 - accuracy: 0.3700 - val_loss: 1.5354 - val_accuracy: 0.4104\n",
      "Epoch 3/50\n",
      "448/448 [==============================] - 230s 514ms/step - loss: 1.5206 - accuracy: 0.4141 - val_loss: 1.4467 - val_accuracy: 0.4471\n",
      "Epoch 4/50\n",
      "448/448 [==============================] - 227s 506ms/step - loss: 1.4419 - accuracy: 0.4483 - val_loss: 1.4033 - val_accuracy: 0.4655\n",
      "Epoch 5/50\n",
      "448/448 [==============================] - 227s 507ms/step - loss: 1.3804 - accuracy: 0.4734 - val_loss: 1.3444 - val_accuracy: 0.4904\n",
      "Epoch 6/50\n",
      "448/448 [==============================] - 227s 506ms/step - loss: 1.3284 - accuracy: 0.4971 - val_loss: 1.2990 - val_accuracy: 0.5088\n",
      "Epoch 7/50\n",
      "448/448 [==============================] - 227s 507ms/step - loss: 1.2851 - accuracy: 0.5120 - val_loss: 1.2734 - val_accuracy: 0.5141\n",
      "Epoch 8/50\n",
      "448/448 [==============================] - 228s 510ms/step - loss: 1.2518 - accuracy: 0.5266 - val_loss: 1.2425 - val_accuracy: 0.5253\n",
      "Epoch 9/50\n",
      "448/448 [==============================] - 230s 513ms/step - loss: 1.2161 - accuracy: 0.5423 - val_loss: 1.2165 - val_accuracy: 0.5339\n",
      "Epoch 10/50\n",
      "448/448 [==============================] - 227s 508ms/step - loss: 1.1847 - accuracy: 0.5523 - val_loss: 1.1982 - val_accuracy: 0.5409\n",
      "Epoch 11/50\n",
      "448/448 [==============================] - 227s 507ms/step - loss: 1.1552 - accuracy: 0.5684 - val_loss: 1.1731 - val_accuracy: 0.5530\n",
      "Epoch 12/50\n",
      "448/448 [==============================] - 228s 508ms/step - loss: 1.1275 - accuracy: 0.5772 - val_loss: 1.1586 - val_accuracy: 0.5607\n",
      "Epoch 13/50\n",
      "448/448 [==============================] - 233s 521ms/step - loss: 1.1087 - accuracy: 0.5844 - val_loss: 1.1548 - val_accuracy: 0.5573\n",
      "Epoch 14/50\n",
      "448/448 [==============================] - 228s 508ms/step - loss: 1.0779 - accuracy: 0.5963 - val_loss: 1.1424 - val_accuracy: 0.5665\n",
      "Epoch 15/50\n",
      "448/448 [==============================] - 228s 508ms/step - loss: 1.0504 - accuracy: 0.6080 - val_loss: 1.1358 - val_accuracy: 0.5716\n",
      "Epoch 16/50\n",
      "448/448 [==============================] - 229s 511ms/step - loss: 1.0337 - accuracy: 0.6127 - val_loss: 1.1070 - val_accuracy: 0.5834\n",
      "Epoch 17/50\n",
      "448/448 [==============================] - 229s 510ms/step - loss: 1.0056 - accuracy: 0.6260 - val_loss: 1.1023 - val_accuracy: 0.5868\n",
      "Epoch 18/50\n",
      "448/448 [==============================] - 230s 514ms/step - loss: 0.9799 - accuracy: 0.6355 - val_loss: 1.0941 - val_accuracy: 0.5882\n",
      "Epoch 19/50\n",
      "448/448 [==============================] - 228s 509ms/step - loss: 0.9603 - accuracy: 0.6450 - val_loss: 1.0897 - val_accuracy: 0.5917\n",
      "Epoch 20/50\n",
      "448/448 [==============================] - 228s 509ms/step - loss: 0.9410 - accuracy: 0.6530 - val_loss: 1.0916 - val_accuracy: 0.5938\n",
      "Epoch 21/50\n",
      "448/448 [==============================] - 228s 510ms/step - loss: 0.9091 - accuracy: 0.6624 - val_loss: 1.0883 - val_accuracy: 0.5972\n",
      "Epoch 22/50\n",
      "448/448 [==============================] - 228s 509ms/step - loss: 0.8978 - accuracy: 0.6673 - val_loss: 1.0746 - val_accuracy: 0.6063\n",
      "Epoch 23/50\n",
      "448/448 [==============================] - 228s 508ms/step - loss: 0.8676 - accuracy: 0.6803 - val_loss: 1.0859 - val_accuracy: 0.6009\n",
      "Epoch 24/50\n",
      "448/448 [==============================] - 228s 509ms/step - loss: 0.8495 - accuracy: 0.6869 - val_loss: 1.0849 - val_accuracy: 0.6062\n",
      "Epoch 25/50\n",
      "448/448 [==============================] - 228s 508ms/step - loss: 0.8217 - accuracy: 0.6965 - val_loss: 1.0807 - val_accuracy: 0.6081\n",
      "Epoch 26/50\n",
      "448/448 [==============================] - 229s 510ms/step - loss: 0.7980 - accuracy: 0.7071 - val_loss: 1.0686 - val_accuracy: 0.6098\n",
      "Epoch 27/50\n",
      "448/448 [==============================] - 228s 509ms/step - loss: 0.7778 - accuracy: 0.7120 - val_loss: 1.0796 - val_accuracy: 0.6106\n",
      "Epoch 28/50\n",
      "448/448 [==============================] - 231s 515ms/step - loss: 0.7512 - accuracy: 0.7251 - val_loss: 1.0737 - val_accuracy: 0.6087\n",
      "Epoch 29/50\n",
      "448/448 [==============================] - 231s 515ms/step - loss: 0.7260 - accuracy: 0.7319 - val_loss: 1.0706 - val_accuracy: 0.6200\n",
      "Epoch 30/50\n",
      "448/448 [==============================] - 229s 510ms/step - loss: 0.7075 - accuracy: 0.7422 - val_loss: 1.0785 - val_accuracy: 0.6123\n",
      "Epoch 31/50\n",
      "448/448 [==============================] - 229s 510ms/step - loss: 0.6815 - accuracy: 0.7496 - val_loss: 1.0876 - val_accuracy: 0.6148\n",
      "Epoch 32/50\n",
      "448/448 [==============================] - 229s 512ms/step - loss: 0.6615 - accuracy: 0.7609 - val_loss: 1.0757 - val_accuracy: 0.6205\n",
      "Epoch 33/50\n",
      "448/448 [==============================] - 229s 511ms/step - loss: 0.6419 - accuracy: 0.7655 - val_loss: 1.0873 - val_accuracy: 0.6250\n",
      "Epoch 34/50\n",
      "448/448 [==============================] - 229s 510ms/step - loss: 0.6178 - accuracy: 0.7742 - val_loss: 1.0916 - val_accuracy: 0.6214\n",
      "Epoch 35/50\n",
      "448/448 [==============================] - 226s 505ms/step - loss: 0.5965 - accuracy: 0.7858 - val_loss: 1.1013 - val_accuracy: 0.6204\n",
      "Epoch 36/50\n",
      "448/448 [==============================] - 231s 515ms/step - loss: 0.5832 - accuracy: 0.7861 - val_loss: 1.0946 - val_accuracy: 0.6217\n",
      "Epoch 37/50\n",
      "448/448 [==============================] - 228s 510ms/step - loss: 0.5585 - accuracy: 0.7975 - val_loss: 1.1309 - val_accuracy: 0.6148\n",
      "Epoch 38/50\n",
      "448/448 [==============================] - 230s 513ms/step - loss: 0.5393 - accuracy: 0.8028 - val_loss: 1.1203 - val_accuracy: 0.6233\n",
      "Epoch 39/50\n",
      "448/448 [==============================] - 231s 515ms/step - loss: 0.5187 - accuracy: 0.8105 - val_loss: 1.1406 - val_accuracy: 0.6138\n",
      "Epoch 40/50\n",
      "448/448 [==============================] - 228s 510ms/step - loss: 0.5067 - accuracy: 0.8150 - val_loss: 1.1299 - val_accuracy: 0.6239\n",
      "Epoch 41/50\n",
      "448/448 [==============================] - 228s 508ms/step - loss: 0.4969 - accuracy: 0.8191 - val_loss: 1.1331 - val_accuracy: 0.6250\n",
      "Epoch 42/50\n",
      "448/448 [==============================] - 227s 508ms/step - loss: 0.4791 - accuracy: 0.8261 - val_loss: 1.1303 - val_accuracy: 0.6277\n",
      "Epoch 43/50\n",
      "448/448 [==============================] - 228s 509ms/step - loss: 0.4580 - accuracy: 0.8384 - val_loss: 1.1558 - val_accuracy: 0.6223\n",
      "Epoch 44/50\n",
      "448/448 [==============================] - 228s 510ms/step - loss: 0.4398 - accuracy: 0.8399 - val_loss: 1.1904 - val_accuracy: 0.6283\n",
      "Epoch 45/50\n",
      "448/448 [==============================] - 230s 512ms/step - loss: 0.4257 - accuracy: 0.8476 - val_loss: 1.1949 - val_accuracy: 0.6254\n",
      "Epoch 46/50\n",
      "448/448 [==============================] - 229s 511ms/step - loss: 0.4166 - accuracy: 0.8493 - val_loss: 1.1930 - val_accuracy: 0.6201\n",
      "Epoch 47/50\n",
      "448/448 [==============================] - 229s 512ms/step - loss: 0.4077 - accuracy: 0.8528 - val_loss: 1.1727 - val_accuracy: 0.6265\n",
      "Epoch 48/50\n",
      "448/448 [==============================] - 230s 513ms/step - loss: 0.3843 - accuracy: 0.8613 - val_loss: 1.2017 - val_accuracy: 0.6254\n",
      "Epoch 49/50\n",
      "448/448 [==============================] - 230s 513ms/step - loss: 0.3792 - accuracy: 0.8627 - val_loss: 1.2179 - val_accuracy: 0.6268\n",
      "Epoch 50/50\n",
      "448/448 [==============================] - 229s 510ms/step - loss: 0.3657 - accuracy: 0.8667 - val_loss: 1.2133 - val_accuracy: 0.6235\n"
     ]
    }
   ],
   "source": [
    "emotion_model.compile(loss='categorical_crossentropy',optimizer=Adam(lr=0.0001, decay=1e-6),metrics=['accuracy'])\n",
    "emotion_model_info = emotion_model.fit_generator(\n",
    "        train_generator,\n",
    "        steps_per_epoch=28709 // 64,\n",
    "        epochs=50,\n",
    "        validation_data=validation_generator,\n",
    "        validation_steps=7178 // 64)"
   ]
  },
  {
   "cell_type": "code",
   "execution_count": 13,
   "id": "ba195b43",
   "metadata": {},
   "outputs": [],
   "source": [
    "emotion_model.save_weights('emotion_model.h5')\n"
   ]
  },
  {
   "cell_type": "code",
   "execution_count": 20,
   "id": "5a8d8899",
   "metadata": {},
   "outputs": [],
   "source": [
    "# start the webcam feed\n",
    "cap = cv2.VideoCapture(0)\n",
    "while True:\n",
    "    # Find haar cascade to draw bounding box around face\n",
    "    ret, frame = cap.read()\n",
    "    if not ret:\n",
    "        break\n",
    "    bounding_box = cv2.CascadeClassifier('haarcascade_frontalface_default.xml')\n",
    "    gray_frame = cv2.cvtColor(frame, cv2.COLOR_BGR2GRAY)\n",
    "    num_faces = bounding_box.detectMultiScale(gray_frame,scaleFactor=1.3, minNeighbors=5)\n",
    "\n",
    "    for (x, y, w, h) in num_faces:\n",
    "        cv2.rectangle(frame, (x, y-50), (x+w, y+h+10), (255, 0, 0), 2)\n",
    "        roi_gray_frame = gray_frame[y:y + h, x:x + w]\n",
    "        cropped_img = np.expand_dims(np.expand_dims(cv2.resize(roi_gray_frame, (48, 48)), -1), 0)\n",
    "        emotion_prediction = emotion_model.predict(cropped_img)\n",
    "        maxindex = int(np.argmax(emotion_prediction))\n",
    "        cv2.putText(frame, emotion_dict[maxindex], (x+20, y-60), cv2.FONT_HERSHEY_SIMPLEX, 1, (255, 255, 255), 2, cv2.LINE_AA)\n",
    "\n",
    "    cv2.imshow('Video', cv2.resize(frame,(1200,860),interpolation = cv2.INTER_CUBIC))\n",
    "    if cv2.waitKey(1) & 0xFF == ord('q'):\n",
    "        break\n",
    "\n",
    "cap.release()\n",
    "cv2.destroyAllWindows()"
   ]
  },
  {
   "cell_type": "code",
   "execution_count": 19,
   "id": "8fb575fd",
   "metadata": {},
   "outputs": [],
   "source": [
    "emotion_model.save('model.h5')"
   ]
  },
  {
   "cell_type": "code",
   "execution_count": null,
   "id": "3d1a1fea",
   "metadata": {},
   "outputs": [],
   "source": []
  }
 ],
 "metadata": {
  "kernelspec": {
   "display_name": "Python 3 (ipykernel)",
   "language": "python",
   "name": "python3"
  },
  "language_info": {
   "codemirror_mode": {
    "name": "ipython",
    "version": 3
   },
   "file_extension": ".py",
   "mimetype": "text/x-python",
   "name": "python",
   "nbconvert_exporter": "python",
   "pygments_lexer": "ipython3",
   "version": "3.9.7"
  }
 },
 "nbformat": 4,
 "nbformat_minor": 5
}
